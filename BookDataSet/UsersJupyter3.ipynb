{
 "cells": [
  {
   "cell_type": "code",
   "execution_count": 6,
   "metadata": {},
   "outputs": [
    {
     "name": "stdout",
     "output_type": "stream",
     "text": [
      "(278858, 3)\n"
     ]
    }
   ],
   "source": [
    "import pandas as pd\n",
    "ratings_data_file = 'Users.csv'  \n",
    "data_file_path = pd.read_csv(\"C:\\\\Users\\\\barit\\\\OneDrive\\\\Documents\\\\GitHub\\\\BookRecommendationSystem\\\\BookDataSet\\\\Users.csv\")\n",
    "selected_columns=['User-ID','Location']\n",
    "selected_data=data_file_path[selected_columns]\n",
    "selected_data.head()\n",
    "print(data_file_path.shape)"
   ]
  }
 ],
 "metadata": {
  "kernelspec": {
   "display_name": "base",
   "language": "python",
   "name": "python3"
  },
  "language_info": {
   "codemirror_mode": {
    "name": "ipython",
    "version": 3
   },
   "file_extension": ".py",
   "mimetype": "text/x-python",
   "name": "python",
   "nbconvert_exporter": "python",
   "pygments_lexer": "ipython3",
   "version": "3.12.4"
  }
 },
 "nbformat": 4,
 "nbformat_minor": 2
}
