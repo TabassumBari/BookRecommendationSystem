{
 "cells": [
  {
   "cell_type": "code",
   "execution_count": 1,
   "metadata": {},
   "outputs": [
    {
     "name": "stderr",
     "output_type": "stream",
     "text": [
      "C:\\Users\\barit\\AppData\\Local\\Temp\\ipykernel_1576\\3962833737.py:3: DtypeWarning: Columns (3) have mixed types. Specify dtype option on import or set low_memory=False.\n",
      "  data_file_path = pd.read_csv(r\"C:\\Users\\barit\\OneDrive\\Documents\\GitHub\\BookRecommendationSystem\\BookDataSet\\Books.csv\")\n"
     ]
    },
    {
     "name": "stdout",
     "output_type": "stream",
     "text": [
      "                                     Book-Title  Rating_Count\n",
      "158102                           Selected Poems            27\n",
      "109874                             Little Women            24\n",
      "239693                        Wuthering Heights            21\n",
      "55086                                   Dracula            20\n",
      "9652             Adventures of Huckleberry Finn            20\n",
      "...                                         ...           ...\n",
      "84159                 Hinds Feet On High Places             1\n",
      "84160                 Hinds Feet on High Places             1\n",
      "84161           Hinds Feet on High Places Women             1\n",
      "84163   Hindsight: A Novel of the Class of 1972             1\n",
      "242134                        Ã?Â?thique en toc             1\n",
      "\n",
      "[242135 rows x 2 columns]\n"
     ]
    },
    {
     "data": {
      "text/html": [
       "<div>\n",
       "<style scoped>\n",
       "    .dataframe tbody tr th:only-of-type {\n",
       "        vertical-align: middle;\n",
       "    }\n",
       "\n",
       "    .dataframe tbody tr th {\n",
       "        vertical-align: top;\n",
       "    }\n",
       "\n",
       "    .dataframe thead th {\n",
       "        text-align: right;\n",
       "    }\n",
       "</style>\n",
       "<table border=\"1\" class=\"dataframe\">\n",
       "  <thead>\n",
       "    <tr style=\"text-align: right;\">\n",
       "      <th></th>\n",
       "      <th>Book-Title</th>\n",
       "      <th>Book-Author</th>\n",
       "      <th>Year-Of-Publication</th>\n",
       "      <th>Publisher</th>\n",
       "    </tr>\n",
       "  </thead>\n",
       "  <tbody>\n",
       "    <tr>\n",
       "      <th>0</th>\n",
       "      <td>Classical Mythology</td>\n",
       "      <td>Mark P. O. Morford</td>\n",
       "      <td>2002</td>\n",
       "      <td>Oxford University Press</td>\n",
       "    </tr>\n",
       "    <tr>\n",
       "      <th>1</th>\n",
       "      <td>Clara Callan</td>\n",
       "      <td>Richard Bruce Wright</td>\n",
       "      <td>2001</td>\n",
       "      <td>HarperFlamingo Canada</td>\n",
       "    </tr>\n",
       "    <tr>\n",
       "      <th>2</th>\n",
       "      <td>Decision in Normandy</td>\n",
       "      <td>Carlo D'Este</td>\n",
       "      <td>1991</td>\n",
       "      <td>HarperPerennial</td>\n",
       "    </tr>\n",
       "    <tr>\n",
       "      <th>3</th>\n",
       "      <td>Flu: The Story of the Great Influenza Pandemic...</td>\n",
       "      <td>Gina Bari Kolata</td>\n",
       "      <td>1999</td>\n",
       "      <td>Farrar Straus Giroux</td>\n",
       "    </tr>\n",
       "    <tr>\n",
       "      <th>4</th>\n",
       "      <td>The Mummies of Urumchi</td>\n",
       "      <td>E. J. W. Barber</td>\n",
       "      <td>1999</td>\n",
       "      <td>W. W. Norton &amp;amp; Company</td>\n",
       "    </tr>\n",
       "  </tbody>\n",
       "</table>\n",
       "</div>"
      ],
      "text/plain": [
       "                                          Book-Title           Book-Author  \\\n",
       "0                                Classical Mythology    Mark P. O. Morford   \n",
       "1                                       Clara Callan  Richard Bruce Wright   \n",
       "2                               Decision in Normandy          Carlo D'Este   \n",
       "3  Flu: The Story of the Great Influenza Pandemic...      Gina Bari Kolata   \n",
       "4                             The Mummies of Urumchi       E. J. W. Barber   \n",
       "\n",
       "  Year-Of-Publication                   Publisher  \n",
       "0                2002     Oxford University Press  \n",
       "1                2001       HarperFlamingo Canada  \n",
       "2                1991             HarperPerennial  \n",
       "3                1999        Farrar Straus Giroux  \n",
       "4                1999  W. W. Norton &amp; Company  "
      ]
     },
     "execution_count": 1,
     "metadata": {},
     "output_type": "execute_result"
    }
   ],
   "source": [
    "\n",
    "import pandas as pd\n",
    "book_data_file = 'Books.csv'  \n",
    "data_file_path = pd.read_csv(r\"C:\\Users\\barit\\OneDrive\\Documents\\GitHub\\BookRecommendationSystem\\BookDataSet\\Books.csv\")\n",
    "selected_columns=['Book-Title','Book-Author','Year-Of-Publication','Publisher']\n",
    "book_title_ratings_count = data_file_path.groupby('Book-Title').size().reset_index(name='Rating_Count')\n",
    "book_title_ratings_count = book_title_ratings_count.sort_values(by='Rating_Count', ascending=False)\n",
    "print(book_title_ratings_count)\n",
    "selected_data=data_file_path[selected_columns]\n",
    "selected_data.head()\n",
    "\n",
    "\n",
    "\n",
    "\n",
    "\n"
   ]
  }
 ],
 "metadata": {
  "kernelspec": {
   "display_name": "base",
   "language": "python",
   "name": "python3"
  },
  "language_info": {
   "codemirror_mode": {
    "name": "ipython",
    "version": 3
   },
   "file_extension": ".py",
   "mimetype": "text/x-python",
   "name": "python",
   "nbconvert_exporter": "python",
   "pygments_lexer": "ipython3",
   "version": "3.12.4"
  }
 },
 "nbformat": 4,
 "nbformat_minor": 2
}
