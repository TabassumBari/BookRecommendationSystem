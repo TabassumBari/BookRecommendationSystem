{
 "cells": [
  {
   "cell_type": "code",
   "execution_count": 6,
   "metadata": {},
   "outputs": [
    {
     "name": "stdout",
     "output_type": "stream",
     "text": [
      "Index(['Der Herr der Ringe. AnhÃ?Â¤nge und Register.',\n",
      "       'Nur der Tod ist ohne Makel.', 'Im Keller.', 'Die Welle',\n",
      "       'Die HirnkÃ?Â¶nigin.', 'Asche zu Asche.'],\n",
      "      dtype='object', name='Book-Title')\n"
     ]
    },
    {
     "name": "stderr",
     "output_type": "stream",
     "text": [
      "C:\\Users\\barit\\AppData\\Local\\Temp\\ipykernel_12812\\828612271.py:23: DtypeWarning: Columns (3) have mixed types. Specify dtype option on import or set low_memory=False.\n",
      "  final_rating = pd.read_csv(\"Books.csv\")\n"
     ]
    },
    {
     "name": "stdout",
     "output_type": "stream",
     "text": [
      "http://images.amazon.com/images/P/3608932240.01.LZZZZZZZ.jpg\n",
      "http://images.amazon.com/images/P/3404921178.01.LZZZZZZZ.jpg\n",
      "http://images.amazon.com/images/P/3499222213.01.LZZZZZZZ.jpg\n",
      "http://images.amazon.com/images/P/347354034X.01.LZZZZZZZ.jpg\n",
      "http://images.amazon.com/images/P/3442448530.01.LZZZZZZZ.jpg\n",
      "http://images.amazon.com/images/P/3442437717.01.LZZZZZZZ.jpg\n"
     ]
    }
   ],
   "source": [
    "import numpy as np\n",
    "import pandas as pd\n",
    "import os\n",
    "from scipy.sparse import csr_matrix\n",
    "from sklearn.neighbors import NearestNeighbors\n",
    "book_pivot = pd.read_csv(\"book_pivot.csv\", index_col=0)\n",
    "book_pivot = book_pivot.fillna(0)\n",
    "book_sparse = csr_matrix(book_pivot)\n",
    "model = NearestNeighbors(algorithm='brute')\n",
    "from scipy.sparse import csr_matrix\n",
    "book_sparse = csr_matrix(book_pivot)\n",
    "type(book_sparse)\n",
    "model.fit(book_sparse)\n",
    "distance, suggestion = model.kneighbors(book_pivot.iloc[237,:].values.reshape(1,-1), n_neighbors=6 )\n",
    "distance\n",
    "book_pivot.iloc[241,:]\n",
    "for i in range(len(suggestion)):\n",
    "    print(book_pivot.index[suggestion[i]])\n",
    "\n",
    "book_pivot.index[3]\n",
    "book_names = book_pivot.index\n",
    "book_names[2]\n",
    "final_rating = pd.read_csv(\"Books.csv\")\n",
    "ids = np.where(final_rating['Book-Title'] == \"Harry Potter and the Chamber of Secrets (Book 2)\")[0][0]\n",
    "final_rating.iloc[ids]['Image-URL-L']\n",
    "book_name = []\n",
    "for book_id in suggestion:\n",
    "    book_name.append(book_pivot.index[book_id])\n",
    "    \n",
    "    \n",
    "book_name[0]\n",
    "ids_index = []\n",
    "for name in book_name[0]: \n",
    "    ids = np.where(final_rating['Book-Title'] == name)[0][0]\n",
    "    ids_index.append(ids)\n",
    "    \n",
    "    for idx in ids_index:\n",
    "        url = final_rating.iloc[idx]['Image-URL-L']\n",
    "    print(url)\n",
    "    import pickle\n",
    "    os.makedirs('artifacts', exist_ok=True)\n",
    "pickle.dump(model,open('artifacts/model.pkl','wb'))\n",
    "pickle.dump(book_name,open('artifacts/book_name.pkl','wb'))\n",
    "pickle.dump(final_rating,open('artifacts/final_rating.pkl','wb'))\n",
    "pickle.dump(book_pivot,open('artifacts/book_pivot.pkl','wb'))\n",
    "\n",
    "def recommend_book(book_name):\n",
    "    book_id = np.where(book_pivot.index == book_name)[0][0]\n",
    "    distance, suggestion = model.kneighbors(book_pivot.iloc[book_id,:].values.reshape(1,-1), n_neighbors=6 )\n",
    "    \n",
    "    for i in range(len(suggestion)):\n",
    "            books = book_pivot.index[suggestion[i]]\n",
    "            for j in books:\n",
    "                if j == book_name:\n",
    "                    print(f\"You searched '{book_name}'\\n\")\n",
    "                    print(\"The suggestion books are: \\n\")\n",
    "                else:\n",
    "                    print(j)\n",
    "                    \n",
    "                   \n",
    "                book_name = \"Harry Potter and the Chamber of Secrets (Book 2)\"\n",
    "                recommend_book(book_name)\n",
    "                print(recommend_book)"
   ]
  }
 ],
 "metadata": {
  "kernelspec": {
   "display_name": "base",
   "language": "python",
   "name": "python3"
  },
  "language_info": {
   "codemirror_mode": {
    "name": "ipython",
    "version": 3
   },
   "file_extension": ".py",
   "mimetype": "text/x-python",
   "name": "python",
   "nbconvert_exporter": "python",
   "pygments_lexer": "ipython3",
   "version": "3.12.4"
  }
 },
 "nbformat": 4,
 "nbformat_minor": 2
}
