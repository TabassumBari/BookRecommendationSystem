{
 "cells": [
  {
   "cell_type": "code",
   "execution_count": 28,
   "metadata": {},
   "outputs": [
    {
     "name": "stdout",
     "output_type": "stream",
     "text": [
      "Index(['Der Herr der Ringe. AnhÃ?Â¤nge und Register.',\n",
      "       'Nur der Tod ist ohne Makel.', 'Im Keller.', 'Die Welle',\n",
      "       'Die HirnkÃ?Â¶nigin.', 'Asche zu Asche.'],\n",
      "      dtype='object', name='Book-Title')\n"
     ]
    },
    {
     "name": "stderr",
     "output_type": "stream",
     "text": [
      "C:\\Users\\barit\\AppData\\Local\\Temp\\ipykernel_3528\\2208155003.py:22: DtypeWarning: Columns (3) have mixed types. Specify dtype option on import or set low_memory=False.\n",
      "  final_rating= pd.read_csv(\"Books.csv\")\n"
     ]
    },
    {
     "data": {
      "text/plain": [
       "'http://images.amazon.com/images/P/0439064872.01.LZZZZZZZ.jpg'"
      ]
     },
     "execution_count": 28,
     "metadata": {},
     "output_type": "execute_result"
    }
   ],
   "source": [
    "import numpy as np\n",
    "import pandas as pd\n",
    "from scipy.sparse import csr_matrix\n",
    "from sklearn.neighbors import NearestNeighbors\n",
    "book_pivot = pd.read_csv(\"book_pivot.csv\", index_col=0)\n",
    "book_pivot = book_pivot.fillna(0)\n",
    "book_sparse = csr_matrix(book_pivot)\n",
    "model = NearestNeighbors(algorithm='brute')\n",
    "from scipy.sparse import csr_matrix\n",
    "book_sparse = csr_matrix(book_pivot)\n",
    "type(book_sparse)\n",
    "model.fit(book_sparse)\n",
    "distance, suggestion = model.kneighbors(book_pivot.iloc[237,:].values.reshape(1,-1), n_neighbors=6 )\n",
    "distance\n",
    "book_pivot.iloc[241,:]\n",
    "for i in range(len(suggestion)):\n",
    "    print(book_pivot.index[suggestion[i]])\n",
    "\n",
    "book_pivot.index[3]\n",
    "book_names = book_pivot.index\n",
    "book_names[2]\n",
    "final_rating= pd.read_csv(\"Books.csv\")\n",
    "ids = np.where(final_rating['Book-Title'] == \"Harry Potter and the Chamber of Secrets (Book 2)\")[0][0]\n",
    "final_rating.iloc[ids]['Image-URL-L']"
   ]
  }
 ],
 "metadata": {
  "kernelspec": {
   "display_name": "base",
   "language": "python",
   "name": "python3"
  },
  "language_info": {
   "codemirror_mode": {
    "name": "ipython",
    "version": 3
   },
   "file_extension": ".py",
   "mimetype": "text/x-python",
   "name": "python",
   "nbconvert_exporter": "python",
   "pygments_lexer": "ipython3",
   "version": "3.12.4"
  }
 },
 "nbformat": 4,
 "nbformat_minor": 2
}
