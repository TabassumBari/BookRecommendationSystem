{
 "cells": [
  {
   "cell_type": "code",
   "execution_count": 2,
   "metadata": {},
   "outputs": [],
   "source": [
    "import pandas as pd\n",
    "books_df = pd.read_csv(r\"C:\\Users\\barit\\OneDrive\\Documents\\GitHub\\BookRecommendationSystem\\BookDataSet\\Books.csv\", low_memory=False)      \n",
    "ratings_df = pd.read_csv(\"C:\\\\Users\\\\barit\\\\OneDrive\\\\Documents\\\\GitHub\\\\BookRecommendationSystem\\\\BookDataSet\\\\Ratings.csv\")           \n",
    "users_df = pd.read_csv(\"C:\\\\Users\\\\barit\\\\OneDrive\\\\Documents\\\\GitHub\\\\BookRecommendationSystem\\\\BookDataSet\\\\Users.csv\") \n",
    "combined_df = pd.merge(ratings_df, books_df, on='ISBN', how='inner')\n",
    "combined_df = pd.merge(combined_df, users_df, on='User-ID', how='inner')\n",
    "          \n"
   ]
  }
 ],
 "metadata": {
  "kernelspec": {
   "display_name": "base",
   "language": "python",
   "name": "python3"
  },
  "language_info": {
   "codemirror_mode": {
    "name": "ipython",
    "version": 3
   },
   "file_extension": ".py",
   "mimetype": "text/x-python",
   "name": "python",
   "nbconvert_exporter": "python",
   "pygments_lexer": "ipython3",
   "version": "3.12.4"
  }
 },
 "nbformat": 4,
 "nbformat_minor": 2
}
