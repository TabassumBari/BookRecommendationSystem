{
 "cells": [
  {
   "cell_type": "code",
   "execution_count": 8,
   "metadata": {},
   "outputs": [
    {
     "name": "stdout",
     "output_type": "stream",
     "text": [
      "(1149780, 3)\n",
      "User-ID\n",
      "11676     13602\n",
      "198711     7550\n",
      "153662     6109\n",
      "98391      5891\n",
      "35859      5850\n",
      "          ...  \n",
      "116180        1\n",
      "116166        1\n",
      "116154        1\n",
      "116137        1\n",
      "276723        1\n",
      "Name: count, Length: 105283, dtype: int64\n",
      "        User-ID  Book-Rating  Rating_Count\n",
      "0             2            0             1\n",
      "1             7            0             1\n",
      "5             8            7             1\n",
      "7             9            6             1\n",
      "8            10            0             1\n",
      "...         ...          ...           ...\n",
      "210477   278849            9             1\n",
      "210482   278851           10             1\n",
      "210483   278852            8             1\n",
      "210485   278854            6             1\n",
      "210487   278854            8             1\n",
      "\n",
      "[132988 rows x 3 columns]\n",
      "        User-ID  Rating_Count\n",
      "95          254           314\n",
      "791        2276           498\n",
      "981        2766           274\n",
      "1049       2977           232\n",
      "1177       3363           901\n",
      "...         ...           ...\n",
      "104147   275970          1376\n",
      "104688   277427           497\n",
      "104706   277478           214\n",
      "104768   277639           270\n",
      "105111   278418          4533\n",
      "\n",
      "[899 rows x 2 columns]\n",
      "               ISBN  Rating_Count\n",
      "0        0330299891             2\n",
      "1        0375404120             2\n",
      "2        0586045007             1\n",
      "3        9022906116             2\n",
      "4        9032803328             1\n",
      "...             ...           ...\n",
      "340551     cn113107             1\n",
      "340552   ooo7156103             1\n",
      "340553   §423350229             1\n",
      "340554  ´3499128624             1\n",
      "340555    Ô½crosoft             1\n",
      "\n",
      "[340556 rows x 2 columns]\n"
     ]
    }
   ],
   "source": [
    "import pandas as pd\n",
    "ratings_data_file = 'Ratings.csv'  \n",
    "data_file_path = pd.read_csv(\"C:\\\\Users\\\\barit\\\\OneDrive\\\\Documents\\\\GitHub\\\\BookRecommendationSystem\\\\BookDataSet\\\\Ratings.csv\")\n",
    "\n",
    "selected_columns=['User-ID','Book-Rating']\n",
    "selected_data=data_file_path[selected_columns]\n",
    "selected_data.head()\n",
    "print(data_file_path.shape)\n",
    "print(data_file_path['User-ID'].value_counts())\n",
    "\n",
    "unique_ratings = data_file_path.groupby(['User-ID','Book-Rating']).size().reset_index(name='Rating_Count')\n",
    "unique_user_ratings = unique_ratings[unique_ratings['Rating_Count'] == 1]\n",
    "user_ratings_count = data_file_path.groupby('User-ID').size().reset_index(name='Rating_Count')\n",
    "users_with_more_than_200_ratings = user_ratings_count[user_ratings_count['Rating_Count'] > 200]\n",
    "book_ratings_count = data_file_path.groupby('ISBN').size().reset_index(name='Rating_Count')\n",
    "\n",
    "print(unique_user_ratings)\n",
    "print(users_with_more_than_200_ratings)\n",
    "print(book_ratings_count)\n"
   ]
  }
 ],
 "metadata": {
  "kernelspec": {
   "display_name": "base",
   "language": "python",
   "name": "python3"
  },
  "language_info": {
   "codemirror_mode": {
    "name": "ipython",
    "version": 3
   },
   "file_extension": ".py",
   "mimetype": "text/x-python",
   "name": "python",
   "nbconvert_exporter": "python",
   "pygments_lexer": "ipython3",
   "version": "3.12.4"
  }
 },
 "nbformat": 4,
 "nbformat_minor": 2
}
