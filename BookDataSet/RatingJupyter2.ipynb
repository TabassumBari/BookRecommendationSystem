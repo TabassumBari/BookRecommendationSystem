{
 "cells": [
  {
   "cell_type": "code",
   "execution_count": 3,
   "metadata": {},
   "outputs": [
    {
     "name": "stdout",
     "output_type": "stream",
     "text": [
      "(1149780, 3)\n"
     ]
    }
   ],
   "source": [
    "import pandas as pd\n",
    "ratings_data_file = 'Ratings.csv'  \n",
    "data_file_path = pd.read_csv(\"C:\\\\Users\\\\barit\\\\OneDrive\\\\Documents\\\\GitHub\\\\BookRecommendationSystem\\\\BookDataSet\\\\Ratings.csv\")\n",
    "selected_columns=['User-ID','Book-Rating']\n",
    "selected_data=data_file_path[selected_columns]\n",
    "selected_data.head()\n",
    "print(data_file_path.shape)\n"
   ]
  }
 ],
 "metadata": {
  "kernelspec": {
   "display_name": "base",
   "language": "python",
   "name": "python3"
  },
  "language_info": {
   "codemirror_mode": {
    "name": "ipython",
    "version": 3
   },
   "file_extension": ".py",
   "mimetype": "text/x-python",
   "name": "python",
   "nbconvert_exporter": "python",
   "pygments_lexer": "ipython3",
   "version": "3.12.4"
  }
 },
 "nbformat": 4,
 "nbformat_minor": 2
}
